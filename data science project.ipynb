{
  "nbformat": 4,
  "nbformat_minor": 0,
  "metadata": {
    "colab": {
      "provenance": [],
      "authorship_tag": "ABX9TyOMU7CYGI/K4HLxlt5m9vvf",
      "include_colab_link": true
    },
    "kernelspec": {
      "name": "python3",
      "display_name": "Python 3"
    },
    "language_info": {
      "name": "python"
    }
  },
  "cells": [
    {
      "cell_type": "markdown",
      "metadata": {
        "id": "view-in-github",
        "colab_type": "text"
      },
      "source": [
        "<a href=\"https://colab.research.google.com/github/rishabh-agrawal23/My-projects/blob/main/data%20science%20project.ipynb\" target=\"_parent\"><img src=\"https://colab.research.google.com/assets/colab-badge.svg\" alt=\"Open In Colab\"/></a>"
      ]
    },
    {
      "cell_type": "code",
      "execution_count": 1,
      "metadata": {
        "id": "IdqFnSNeqfxO"
      },
      "outputs": [],
      "source": [
        "#Hand Written Digit Classification\n"
      ]
    },
    {
      "cell_type": "code",
      "source": [
        "import pandas as pd"
      ],
      "metadata": {
        "id": "z8VXxuTyrGDF"
      },
      "execution_count": 2,
      "outputs": []
    },
    {
      "cell_type": "code",
      "source": [
        "import numpy as np"
      ],
      "metadata": {
        "id": "eK_x5WIwrGGJ"
      },
      "execution_count": 3,
      "outputs": []
    },
    {
      "cell_type": "code",
      "source": [
        "import matplotlib.pyplot as plt"
      ],
      "metadata": {
        "id": "-Y5uWTrSrGJo"
      },
      "execution_count": 4,
      "outputs": []
    },
    {
      "cell_type": "code",
      "source": [
        "from sklearn.datasets import load_digits"
      ],
      "metadata": {
        "id": "KPFz6q5NrGNM"
      },
      "execution_count": 5,
      "outputs": []
    },
    {
      "cell_type": "code",
      "source": [
        "df=load_digits()"
      ],
      "metadata": {
        "id": "A62COFGFrdl2"
      },
      "execution_count": 6,
      "outputs": []
    },
    {
      "cell_type": "code",
      "source": [
        "_, axes = plt.subplots(nrows=1, ncols=4, figsize=(10, 3))\n",
        "for ax, image, label in zip(axes, df.images, df.target):\n",
        "    ax.set_axis_off()\n",
        "    ax.imshow(image, cmap=plt.cm.gray_r, interpolation=\"nearest\")\n",
        "    ax.set_title(\"Training: %i\" %label)"
      ],
      "metadata": {
        "colab": {
          "base_uri": "https://localhost:8080/",
          "height": 183
        },
        "id": "7UHGirO7rdpB",
        "outputId": "e0555721-d8c5-4f73-ffc2-04c1648c69f4"
      },
      "execution_count": 7,
      "outputs": [
        {
          "output_type": "display_data",
          "data": {
            "text/plain": [
              "<Figure size 1000x300 with 4 Axes>"
            ],
            "image/png": "[encoded data removed]"
          },
          "metadata": {}
        }
      ]
    },
    {
      "cell_type": "code",
      "source": [
        "df.images.shape"
      ],
      "metadata": {
        "colab": {
          "base_uri": "https://localhost:8080/"
        },
        "id": "RGux4bN6rdsf",
        "outputId": "a7999288-280d-4325-f5ba-3d6f9b66a702"
      },
      "execution_count": 8,
      "outputs": [
        {
          "output_type": "execute_result",
          "data": {
            "text/plain": [
              "(1797, 8, 8)"
            ]
          },
          "metadata": {},
          "execution_count": 8
        }
      ]
    },
    {
      "cell_type": "code",
      "source": [
        "df.images[0]"
      ],
      "metadata": {
        "colab": {
          "base_uri": "https://localhost:8080/"
        },
        "id": "F4aZV0KRrfGl",
        "outputId": "3acf1cec-dfcc-46a2-9b35-404470e0164f"
      },
      "execution_count": 9,
      "outputs": [
        {
          "output_type": "execute_result",
          "data": {
            "text/plain": [
              "array([[ 0.,  0.,  5., 13.,  9.,  1.,  0.,  0.],\n",
              "       [ 0.,  0., 13., 15., 10., 15.,  5.,  0.],\n",
              "       [ 0.,  3., 15.,  2.,  0., 11.,  8.,  0.],\n",
              "       [ 0.,  4., 12.,  0.,  0.,  8.,  8.,  0.],\n",
              "       [ 0.,  5.,  8.,  0.,  0.,  9.,  8.,  0.],\n",
              "       [ 0.,  4., 11.,  0.,  1., 12.,  7.,  0.],\n",
              "       [ 0.,  2., 14.,  5., 10., 12.,  0.,  0.],\n",
              "       [ 0.,  0.,  6., 13., 10.,  0.,  0.,  0.]])"
            ]
          },
          "metadata": {},
          "execution_count": 9
        }
      ]
    },
    {
      "cell_type": "code",
      "source": [
        "df.images[0].shape"
      ],
      "metadata": {
        "colab": {
          "base_uri": "https://localhost:8080/"
        },
        "id": "7T3nKYAorfJ9",
        "outputId": "75b36f71-09ff-4003-ef18-27f7517bfd77"
      },
      "execution_count": 10,
      "outputs": [
        {
          "output_type": "execute_result",
          "data": {
            "text/plain": [
              "(8, 8)"
            ]
          },
          "metadata": {},
          "execution_count": 10
        }
      ]
    },
    {
      "cell_type": "code",
      "source": [
        "len(df.images)"
      ],
      "metadata": {
        "colab": {
          "base_uri": "https://localhost:8080/"
        },
        "id": "3Xsx3lcHteis",
        "outputId": "84eca453-5bb0-4bcd-a120-5dd13aa3de7c"
      },
      "execution_count": 11,
      "outputs": [
        {
          "output_type": "execute_result",
          "data": {
            "text/plain": [
              "1797"
            ]
          },
          "metadata": {},
          "execution_count": 11
        }
      ]
    },
    {
      "cell_type": "code",
      "source": [
        "n_samples= len(df.images)\n",
        "data = df.images.reshape((n_samples, -1))"
      ],
      "metadata": {
        "id": "Ff7Xlzx3teoM"
      },
      "execution_count": 12,
      "outputs": []
    },
    {
      "cell_type": "code",
      "source": [
        "data[0]"
      ],
      "metadata": {
        "colab": {
          "base_uri": "https://localhost:8080/"
        },
        "id": "mQYS17SPt4Ur",
        "outputId": "d3866f21-c76f-4d6a-b227-597357fb6a47"
      },
      "execution_count": 13,
      "outputs": [
        {
          "output_type": "execute_result",
          "data": {
            "text/plain": [
              "array([ 0.,  0.,  5., 13.,  9.,  1.,  0.,  0.,  0.,  0., 13., 15., 10.,\n",
              "       15.,  5.,  0.,  0.,  3., 15.,  2.,  0., 11.,  8.,  0.,  0.,  4.,\n",
              "       12.,  0.,  0.,  8.,  8.,  0.,  0.,  5.,  8.,  0.,  0.,  9.,  8.,\n",
              "        0.,  0.,  4., 11.,  0.,  1., 12.,  7.,  0.,  0.,  2., 14.,  5.,\n",
              "       10., 12.,  0.,  0.,  0.,  0.,  6., 13., 10.,  0.,  0.,  0.])"
            ]
          },
          "metadata": {},
          "execution_count": 13
        }
      ]
    },
    {
      "cell_type": "code",
      "source": [
        "data[0].shape"
      ],
      "metadata": {
        "colab": {
          "base_uri": "https://localhost:8080/"
        },
        "id": "LtbgF9fmt4YK",
        "outputId": "162837a0-dfc0-4832-b446-3b1ce2a839bc"
      },
      "execution_count": 14,
      "outputs": [
        {
          "output_type": "execute_result",
          "data": {
            "text/plain": [
              "(64,)"
            ]
          },
          "metadata": {},
          "execution_count": 14
        }
      ]
    },
    {
      "cell_type": "code",
      "source": [
        "data.shape"
      ],
      "metadata": {
        "colab": {
          "base_uri": "https://localhost:8080/"
        },
        "id": "83D-rOsXuD9U",
        "outputId": "182e2419-b0a4-4055-fcfc-30ce774d10f8"
      },
      "execution_count": 15,
      "outputs": [
        {
          "output_type": "execute_result",
          "data": {
            "text/plain": [
              "(1797, 64)"
            ]
          },
          "metadata": {},
          "execution_count": 15
        }
      ]
    },
    {
      "cell_type": "code",
      "source": [
        "data.min()"
      ],
      "metadata": {
        "colab": {
          "base_uri": "https://localhost:8080/"
        },
        "id": "i5QhW-5HuLWU",
        "outputId": "574b9cac-13f1-46fe-e71a-f7c775887575"
      },
      "execution_count": 16,
      "outputs": [
        {
          "output_type": "execute_result",
          "data": {
            "text/plain": [
              "0.0"
            ]
          },
          "metadata": {},
          "execution_count": 16
        }
      ]
    },
    {
      "cell_type": "code",
      "source": [
        "data.max()"
      ],
      "metadata": {
        "colab": {
          "base_uri": "https://localhost:8080/"
        },
        "id": "1Fw2bdoKuLaO",
        "outputId": "8be9a4d6-2070-4ddc-879c-9b858e817f91"
      },
      "execution_count": 17,
      "outputs": [
        {
          "output_type": "execute_result",
          "data": {
            "text/plain": [
              "16.0"
            ]
          },
          "metadata": {},
          "execution_count": 17
        }
      ]
    },
    {
      "cell_type": "code",
      "source": [
        "data=data/16"
      ],
      "metadata": {
        "id": "nRXgvmGbuLdk"
      },
      "execution_count": 18,
      "outputs": []
    },
    {
      "cell_type": "code",
      "source": [
        "data.min()"
      ],
      "metadata": {
        "colab": {
          "base_uri": "https://localhost:8080/"
        },
        "id": "7_y1rXheuZC8",
        "outputId": "e4d840a1-0150-481c-86d2-7c20dd60f852"
      },
      "execution_count": 19,
      "outputs": [
        {
          "output_type": "execute_result",
          "data": {
            "text/plain": [
              "0.0"
            ]
          },
          "metadata": {},
          "execution_count": 19
        }
      ]
    },
    {
      "cell_type": "code",
      "source": [
        "data.max()"
      ],
      "metadata": {
        "colab": {
          "base_uri": "https://localhost:8080/"
        },
        "id": "d7dO11-zuLsI",
        "outputId": "9390eb16-8771-459d-95cd-b88708432e89"
      },
      "execution_count": 20,
      "outputs": [
        {
          "output_type": "execute_result",
          "data": {
            "text/plain": [
              "1.0"
            ]
          },
          "metadata": {},
          "execution_count": 20
        }
      ]
    },
    {
      "cell_type": "code",
      "source": [
        "data[0]"
      ],
      "metadata": {
        "colab": {
          "base_uri": "https://localhost:8080/"
        },
        "id": "nzMKFjqVuEAq",
        "outputId": "8e5a7bc5-504a-42a7-c964-3385a0a059d3"
      },
      "execution_count": 21,
      "outputs": [
        {
          "output_type": "execute_result",
          "data": {
            "text/plain": [
              "array([0.    , 0.    , 0.3125, 0.8125, 0.5625, 0.0625, 0.    , 0.    ,\n",
              "       0.    , 0.    , 0.8125, 0.9375, 0.625 , 0.9375, 0.3125, 0.    ,\n",
              "       0.    , 0.1875, 0.9375, 0.125 , 0.    , 0.6875, 0.5   , 0.    ,\n",
              "       0.    , 0.25  , 0.75  , 0.    , 0.    , 0.5   , 0.5   , 0.    ,\n",
              "       0.    , 0.3125, 0.5   , 0.    , 0.    , 0.5625, 0.5   , 0.    ,\n",
              "       0.    , 0.25  , 0.6875, 0.    , 0.0625, 0.75  , 0.4375, 0.    ,\n",
              "       0.    , 0.125 , 0.875 , 0.3125, 0.625 , 0.75  , 0.    , 0.    ,\n",
              "       0.    , 0.    , 0.375 , 0.8125, 0.625 , 0.    , 0.    , 0.    ])"
            ]
          },
          "metadata": {},
          "execution_count": 21
        }
      ]
    },
    {
      "cell_type": "code",
      "source": [
        "from sklearn.model_selection import train_test_split"
      ],
      "metadata": {
        "id": "wrgo9EFEeriM"
      },
      "execution_count": 22,
      "outputs": []
    },
    {
      "cell_type": "code",
      "source": [
        "X_train, X_test, y_train, y_test= train_test_split(data, df.target, test_size=0.3)"
      ],
      "metadata": {
        "id": "UKyn7G9gerpk"
      },
      "execution_count": 25,
      "outputs": []
    },
    {
      "cell_type": "code",
      "source": [
        "X_train.shape, X_test.shape, y_train.shape, y_test.shape"
      ],
      "metadata": {
        "colab": {
          "base_uri": "https://localhost:8080/"
        },
        "id": "yU7Lpm9Uerwl",
        "outputId": "d93adab3-e698-4799-dd23-f80e6dee014e"
      },
      "execution_count": 26,
      "outputs": [
        {
          "output_type": "execute_result",
          "data": {
            "text/plain": [
              "((1257, 64), (540, 64), (1257,), (540,))"
            ]
          },
          "metadata": {},
          "execution_count": 26
        }
      ]
    },
    {
      "cell_type": "code",
      "source": [
        "from sklearn.ensemble import RandomForestClassifier"
      ],
      "metadata": {
        "id": "eS6do41DpTp1"
      },
      "execution_count": 28,
      "outputs": []
    },
    {
      "cell_type": "code",
      "source": [
        "rf.fit(X_train, y_train)"
      ],
      "metadata": {
        "colab": {
          "base_uri": "https://localhost:8080/",
          "height": 74
        },
        "id": "8lU8fUYtpTvl",
        "outputId": "88b59d39-54ce-44fd-a264-a2c8a34671d4"
      },
      "execution_count": 30,
      "outputs": [
        {
          "output_type": "execute_result",
          "data": {
            "text/plain": [
              "RandomForestClassifier()"
            ],
            "text/html": [
              "<style>#sk-container-id-1 {color: black;background-color: white;}#sk-container-id-1 pre{padding: 0;}#sk-container-id-1 div.sk-toggleable {background-color: white;}#sk-container-id-1 label.sk-toggleable__label {cursor: pointer;display: block;width: 100%;margin-bottom: 0;padding: 0.3em;box-sizing: border-box;text-align: center;}#sk-container-id-1 label.sk-toggleable__label-arrow:before {content: \"▸\";float: left;margin-right: 0.25em;color: #696969;}#sk-container-id-1 label.sk-toggleable__label-arrow:hover:before {color: black;}#sk-container-id-1 div.sk-estimator:hover label.sk-toggleable__label-arrow:before {color: black;}#sk-container-id-1 div.sk-toggleable__content {max-height: 0;max-width: 0;overflow: hidden;text-align: left;background-color: #f0f8ff;}#sk-container-id-1 div.sk-toggleable__content pre {margin: 0.2em;color: black;border-radius: 0.25em;background-color: #f0f8ff;}#sk-container-id-1 input.sk-toggleable__control:checked~div.sk-toggleable__content {max-height: 200px;max-width: 100%;overflow: auto;}#sk-container-id-1 input.sk-toggleable__control:checked~label.sk-toggleable__label-arrow:before {content: \"▾\";}#sk-container-id-1 div.sk-estimator input.sk-toggleable__control:checked~label.sk-toggleable__label {background-color: #d4ebff;}#sk-container-id-1 div.sk-label input.sk-toggleable__control:checked~label.sk-toggleable__label {background-color: #d4ebff;}#sk-container-id-1 input.sk-hidden--visually {border: 0;clip: rect(1px 1px 1px 1px);clip: rect(1px, 1px, 1px, 1px);height: 1px;margin: -1px;overflow: hidden;padding: 0;position: absolute;width: 1px;}#sk-container-id-1 div.sk-estimator {font-family: monospace;background-color: #f0f8ff;border: 1px dotted black;border-radius: 0.25em;box-sizing: border-box;margin-bottom: 0.5em;}#sk-container-id-1 div.sk-estimator:hover {background-color: #d4ebff;}#sk-container-id-1 div.sk-parallel-item::after {content: \"\";width: 100%;border-bottom: 1px solid gray;flex-grow: 1;}#sk-container-id-1 div.sk-label:hover label.sk-toggleable__label {background-color: #d4ebff;}#sk-container-id-1 div.sk-serial::before {content: \"\";position: absolute;border-left: 1px solid gray;box-sizing: border-box;top: 0;bottom: 0;left: 50%;z-index: 0;}#sk-container-id-1 div.sk-serial {display: flex;flex-direction: column;align-items: center;background-color: white;padding-right: 0.2em;padding-left: 0.2em;position: relative;}#sk-container-id-1 div.sk-item {position: relative;z-index: 1;}#sk-container-id-1 div.sk-parallel {display: flex;align-items: stretch;justify-content: center;background-color: white;position: relative;}#sk-container-id-1 div.sk-item::before, #sk-container-id-1 div.sk-parallel-item::before {content: \"\";position: absolute;border-left: 1px solid gray;box-sizing: border-box;top: 0;bottom: 0;left: 50%;z-index: -1;}#sk-container-id-1 div.sk-parallel-item {display: flex;flex-direction: column;z-index: 1;position: relative;background-color: white;}#sk-container-id-1 div.sk-parallel-item:first-child::after {align-self: flex-end;width: 50%;}#sk-container-id-1 div.sk-parallel-item:last-child::after {align-self: flex-start;width: 50%;}#sk-container-id-1 div.sk-parallel-item:only-child::after {width: 0;}#sk-container-id-1 div.sk-dashed-wrapped {border: 1px dashed gray;margin: 0 0.4em 0.5em 0.4em;box-sizing: border-box;padding-bottom: 0.4em;background-color: white;}#sk-container-id-1 div.sk-label label {font-family: monospace;font-weight: bold;display: inline-block;line-height: 1.2em;}#sk-container-id-1 div.sk-label-container {text-align: center;}#sk-container-id-1 div.sk-container {/* jupyter's `normalize.less` sets `[hidden] { display: none; }` but bootstrap.min.css set `[hidden] { display: none !important; }` so we also need the `!important` here to be able to override the default hidden behavior on the sphinx rendered scikit-learn.org. See: https://github.com/scikit-learn/scikit-learn/issues/21755 */display: inline-block !important;position: relative;}#sk-container-id-1 div.sk-text-repr-fallback {display: none;}</style><div id=\"sk-container-id-1\" class=\"sk-top-container\"><div class=\"sk-text-repr-fallback\"><pre>RandomForestClassifier()</pre><b>In a Jupyter environment, please rerun this cell to show the HTML representation or trust the notebook. <br />On GitHub, the HTML representation is unable to render, please try loading this page with nbviewer.org.</b></div><div class=\"sk-container\" hidden><div class=\"sk-item\"><div class=\"sk-estimator sk-toggleable\"><input class=\"sk-toggleable__control sk-hidden--visually\" id=\"sk-estimator-id-1\" type=\"checkbox\" checked><label for=\"sk-estimator-id-1\" class=\"sk-toggleable__label sk-toggleable__label-arrow\">RandomForestClassifier</label><div class=\"sk-toggleable__content\"><pre>RandomForestClassifier()</pre></div></div></div></div></div>"
            ]
          },
          "metadata": {},
          "execution_count": 30
        }
      ]
    },
    {
      "cell_type": "code",
      "source": [
        "y_pred =rf.predict(X_test)"
      ],
      "metadata": {
        "id": "3VlhA8rmpTzH"
      },
      "execution_count": 31,
      "outputs": []
    },
    {
      "cell_type": "code",
      "source": [
        "y_pred"
      ],
      "metadata": {
        "colab": {
          "base_uri": "https://localhost:8080/"
        },
        "id": "_T4WkLkfpUD1",
        "outputId": "78ce2e67-8757-4621-bd61-bf3689986727"
      },
      "execution_count": 32,
      "outputs": [
        {
          "output_type": "execute_result",
          "data": {
            "text/plain": [
              "array([7, 2, 9, 2, 1, 1, 1, 5, 9, 3, 1, 2, 8, 6, 4, 8, 4, 6, 8, 1, 7, 9,\n",
              "       1, 2, 1, 6, 5, 6, 5, 6, 2, 6, 2, 8, 2, 5, 3, 3, 6, 0, 6, 1, 4, 2,\n",
              "       1, 5, 5, 2, 7, 7, 4, 0, 6, 0, 4, 7, 5, 4, 5, 7, 9, 8, 1, 6, 7, 4,\n",
              "       7, 7, 1, 9, 6, 4, 6, 1, 0, 8, 5, 2, 3, 9, 0, 2, 6, 3, 9, 1, 3, 1,\n",
              "       6, 2, 1, 5, 9, 9, 7, 3, 8, 7, 2, 0, 2, 7, 6, 4, 9, 7, 8, 8, 1, 3,\n",
              "       1, 5, 2, 5, 8, 1, 7, 4, 9, 4, 5, 2, 0, 0, 1, 1, 1, 5, 0, 7, 2, 1,\n",
              "       7, 7, 8, 1, 7, 6, 8, 5, 2, 1, 8, 1, 0, 1, 1, 2, 4, 9, 1, 0, 2, 8,\n",
              "       2, 6, 0, 4, 1, 3, 6, 6, 1, 8, 4, 9, 7, 1, 6, 6, 1, 6, 0, 8, 7, 4,\n",
              "       3, 7, 5, 7, 8, 7, 0, 4, 8, 0, 9, 4, 0, 2, 2, 5, 9, 7, 3, 1, 9, 1,\n",
              "       9, 0, 5, 8, 8, 6, 4, 3, 8, 5, 7, 0, 4, 2, 4, 1, 6, 8, 2, 7, 2, 5,\n",
              "       5, 8, 8, 5, 9, 9, 9, 9, 7, 7, 9, 7, 4, 4, 8, 4, 7, 8, 9, 7, 3, 0,\n",
              "       3, 1, 1, 0, 3, 6, 3, 6, 3, 0, 7, 8, 9, 6, 1, 0, 2, 5, 2, 8, 8, 1,\n",
              "       7, 9, 0, 9, 7, 5, 2, 5, 9, 0, 9, 3, 8, 2, 8, 3, 5, 1, 0, 3, 5, 1,\n",
              "       4, 1, 6, 9, 0, 7, 9, 2, 9, 7, 2, 7, 3, 2, 1, 0, 3, 2, 1, 6, 3, 4,\n",
              "       7, 0, 3, 5, 8, 7, 0, 9, 5, 9, 4, 0, 3, 6, 0, 3, 4, 0, 3, 3, 3, 4,\n",
              "       4, 2, 9, 1, 7, 6, 1, 5, 5, 5, 9, 8, 4, 7, 5, 6, 8, 0, 2, 6, 9, 6,\n",
              "       7, 8, 8, 3, 4, 9, 4, 9, 9, 2, 2, 4, 8, 3, 8, 0, 9, 4, 6, 5, 2, 3,\n",
              "       3, 5, 5, 3, 9, 4, 3, 9, 7, 7, 5, 8, 8, 5, 1, 3, 5, 0, 0, 6, 1, 2,\n",
              "       9, 7, 8, 2, 7, 5, 1, 2, 6, 4, 0, 8, 6, 5, 8, 3, 3, 8, 5, 5, 1, 1,\n",
              "       1, 2, 9, 3, 4, 1, 6, 5, 7, 7, 6, 7, 4, 7, 5, 1, 6, 3, 5, 2, 0, 3,\n",
              "       1, 8, 6, 1, 1, 9, 4, 0, 6, 7, 2, 7, 1, 3, 3, 1, 3, 8, 0, 0, 7, 8,\n",
              "       4, 9, 6, 4, 9, 4, 7, 7, 4, 3, 8, 8, 9, 7, 2, 8, 8, 4, 7, 9, 9, 7,\n",
              "       3, 9, 6, 0, 2, 3, 3, 6, 5, 8, 7, 5, 1, 1, 2, 1, 0, 2, 2, 0, 6, 7,\n",
              "       8, 6, 0, 6, 3, 4, 3, 6, 6, 0, 2, 7, 8, 4, 8, 2, 9, 0, 5, 1, 9, 0,\n",
              "       3, 0, 1, 4, 9, 7, 3, 6, 9, 6, 6, 1])"
            ]
          },
          "metadata": {},
          "execution_count": 32
        }
      ]
    },
    {
      "cell_type": "code",
      "source": [
        "from sklearn.metrics import confusion_matrix, classification_report"
      ],
      "metadata": {
        "id": "G-89BP0kpUHZ"
      },
      "execution_count": 33,
      "outputs": []
    },
    {
      "cell_type": "code",
      "source": [
        "confusion_matrix(y_test, y_pred)"
      ],
      "metadata": {
        "colab": {
          "base_uri": "https://localhost:8080/"
        },
        "id": "BBxl-ve9qZi_",
        "outputId": "50ac2086-861c-4eda-ca2a-9f6354050d03"
      },
      "execution_count": 34,
      "outputs": [
        {
          "output_type": "execute_result",
          "data": {
            "text/plain": [
              "array([[47,  0,  0,  0,  0,  0,  0,  0,  0,  0],\n",
              "       [ 0, 63,  0,  0,  0,  0,  0,  0,  0,  0],\n",
              "       [ 1,  1, 52,  0,  0,  0,  0,  0,  0,  0],\n",
              "       [ 0,  0,  0, 51,  0,  0,  0,  1,  0,  1],\n",
              "       [ 0,  0,  0,  0, 46,  0,  0,  1,  0,  2],\n",
              "       [ 1,  0,  0,  0,  0, 49,  0,  0,  0,  1],\n",
              "       [ 0,  1,  0,  0,  0,  0, 54,  0,  0,  0],\n",
              "       [ 0,  0,  0,  0,  1,  0,  0, 60,  0,  1],\n",
              "       [ 0,  0,  0,  0,  0,  0,  0,  0, 55,  1],\n",
              "       [ 0,  0,  0,  1,  0,  0,  0,  0,  0, 49]])"
            ]
          },
          "metadata": {},
          "execution_count": 34
        }
      ]
    },
    {
      "cell_type": "code",
      "source": [
        "print(classification_report(y_test, y_pred))"
      ],
      "metadata": {
        "colab": {
          "base_uri": "https://localhost:8080/"
        },
        "id": "1wg6jzoTqZmT",
        "outputId": "c714287d-9695-4bcf-c974-524944223ce4"
      },
      "execution_count": 35,
      "outputs": [
        {
          "output_type": "stream",
          "name": "stdout",
          "text": [
            "              precision    recall  f1-score   support\n",
            "\n",
            "           0       0.96      1.00      0.98        47\n",
            "           1       0.97      1.00      0.98        63\n",
            "           2       1.00      0.96      0.98        54\n",
            "           3       0.98      0.96      0.97        53\n",
            "           4       0.98      0.94      0.96        49\n",
            "           5       1.00      0.96      0.98        51\n",
            "           6       1.00      0.98      0.99        55\n",
            "           7       0.97      0.97      0.97        62\n",
            "           8       1.00      0.98      0.99        56\n",
            "           9       0.89      0.98      0.93        50\n",
            "\n",
            "    accuracy                           0.97       540\n",
            "   macro avg       0.97      0.97      0.97       540\n",
            "weighted avg       0.98      0.97      0.97       540\n",
            "\n"
          ]
        }
      ]
    },
    {
      "cell_type": "code",
      "source": [],
      "metadata": {
        "id": "92uUbaphqZpq"
      },
      "execution_count": null,
      "outputs": []
    }
  ]
}